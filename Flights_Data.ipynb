{
  "nbformat": 4,
  "nbformat_minor": 0,
  "metadata": {
    "colab": {
      "name": "Flights_Data.ipynb",
      "provenance": []
    },
    "kernelspec": {
      "name": "python3",
      "display_name": "Python 3"
    }
  },
  "cells": [
    {
      "cell_type": "code",
      "metadata": {
        "id": "T80YxQ7EEDdK"
      },
      "source": [
        "import pandas as pd\n",
        "from pandas import Series,DataFrame\n",
        "import numpy as np\n",
        "\n",
        "# For Visualization\n",
        "import matplotlib.pyplot as plt\n",
        "import seaborn as sns\n",
        "\n",
        "%matplotlib inline"
      ],
      "execution_count": null,
      "outputs": []
    },
    {
      "cell_type": "code",
      "metadata": {
        "id": "IRa3MZeFD2F-"
      },
      "source": [
        "df1=pd.read_csv(\"https://github.com/ActiveConclusion/COVID19_AirTraffic/raw/master/opensky_data/flightlist_20200101_20200131.csv.gz\")\n",
        "df2=pd.read_csv(\"https://github.com/ActiveConclusion/COVID19_AirTraffic/raw/master/opensky_data/flightlist_20200201_20200229.csv.gz\")\n",
        "df3=pd.read_csv(\"https://github.com/ActiveConclusion/COVID19_AirTraffic/raw/master/opensky_data/flightlist_20200301_20200331.csv.gz\")\n",
        "df4=pd.read_csv(\"https://github.com/ActiveConclusion/COVID19_AirTraffic/raw/master/opensky_data/flightlist_20200401_20200430.csv.gz\")\n"
      ],
      "execution_count": null,
      "outputs": []
    },
    {
      "cell_type": "code",
      "metadata": {
        "id": "8GNt95MkdrYa"
      },
      "source": [
        "data=pd.concat([df1,df2,df3,df4],axis=0)"
      ],
      "execution_count": null,
      "outputs": []
    },
    {
      "cell_type": "code",
      "metadata": {
        "colab": {
          "base_uri": "https://localhost:8080/",
          "height": 586
        },
        "id": "Vw2AxMUKEJ0L",
        "outputId": "f3758eb0-43e8-4368-b01d-6ec608f71307"
      },
      "source": [
        "data"
      ],
      "execution_count": null,
      "outputs": [
        {
          "output_type": "execute_result",
          "data": {
            "text/html": [
              "<div>\n",
              "<style scoped>\n",
              "    .dataframe tbody tr th:only-of-type {\n",
              "        vertical-align: middle;\n",
              "    }\n",
              "\n",
              "    .dataframe tbody tr th {\n",
              "        vertical-align: top;\n",
              "    }\n",
              "\n",
              "    .dataframe thead th {\n",
              "        text-align: right;\n",
              "    }\n",
              "</style>\n",
              "<table border=\"1\" class=\"dataframe\">\n",
              "  <thead>\n",
              "    <tr style=\"text-align: right;\">\n",
              "      <th></th>\n",
              "      <th>callsign</th>\n",
              "      <th>number</th>\n",
              "      <th>icao24</th>\n",
              "      <th>registration</th>\n",
              "      <th>typecode</th>\n",
              "      <th>origin</th>\n",
              "      <th>destination</th>\n",
              "      <th>firstseen</th>\n",
              "      <th>lastseen</th>\n",
              "      <th>day</th>\n",
              "      <th>Unnamed: 0</th>\n",
              "    </tr>\n",
              "  </thead>\n",
              "  <tbody>\n",
              "    <tr>\n",
              "      <th>0</th>\n",
              "      <td>SVA816</td>\n",
              "      <td>NaN</td>\n",
              "      <td>710064</td>\n",
              "      <td>HZ-AK24</td>\n",
              "      <td>B77W</td>\n",
              "      <td>NaN</td>\n",
              "      <td>NaN</td>\n",
              "      <td>2019-12-31 00:19:47+00:00</td>\n",
              "      <td>2020-01-01 13:27:28+00:00</td>\n",
              "      <td>2020-01-01 00:00:00+00:00</td>\n",
              "      <td>NaN</td>\n",
              "    </tr>\n",
              "    <tr>\n",
              "      <th>1</th>\n",
              "      <td>THY183</td>\n",
              "      <td>NaN</td>\n",
              "      <td>4ba9c1</td>\n",
              "      <td>TC-JNA</td>\n",
              "      <td>A332</td>\n",
              "      <td>NaN</td>\n",
              "      <td>LTBW</td>\n",
              "      <td>2019-12-31 00:25:26+00:00</td>\n",
              "      <td>2020-01-01 07:48:41+00:00</td>\n",
              "      <td>2020-01-01 00:00:00+00:00</td>\n",
              "      <td>NaN</td>\n",
              "    </tr>\n",
              "    <tr>\n",
              "      <th>2</th>\n",
              "      <td>CES738</td>\n",
              "      <td>MU738</td>\n",
              "      <td>781418</td>\n",
              "      <td>NaN</td>\n",
              "      <td>NaN</td>\n",
              "      <td>YMML</td>\n",
              "      <td>YSSY</td>\n",
              "      <td>2019-12-31 01:08:54+00:00</td>\n",
              "      <td>2020-01-01 01:45:29+00:00</td>\n",
              "      <td>2020-01-01 00:00:00+00:00</td>\n",
              "      <td>NaN</td>\n",
              "    </tr>\n",
              "    <tr>\n",
              "      <th>3</th>\n",
              "      <td>CES771</td>\n",
              "      <td>MU771</td>\n",
              "      <td>781858</td>\n",
              "      <td>NaN</td>\n",
              "      <td>NaN</td>\n",
              "      <td>YSSY</td>\n",
              "      <td>EHAM</td>\n",
              "      <td>2019-12-31 01:29:25+00:00</td>\n",
              "      <td>2020-01-01 04:08:28+00:00</td>\n",
              "      <td>2020-01-01 00:00:00+00:00</td>\n",
              "      <td>NaN</td>\n",
              "    </tr>\n",
              "    <tr>\n",
              "      <th>4</th>\n",
              "      <td>HAL5</td>\n",
              "      <td>HA5</td>\n",
              "      <td>a455ea</td>\n",
              "      <td>N379HA</td>\n",
              "      <td>A332</td>\n",
              "      <td>KLAS</td>\n",
              "      <td>NaN</td>\n",
              "      <td>2019-12-31 02:23:05+00:00</td>\n",
              "      <td>2020-01-01 08:52:18+00:00</td>\n",
              "      <td>2020-01-01 00:00:00+00:00</td>\n",
              "      <td>NaN</td>\n",
              "    </tr>\n",
              "    <tr>\n",
              "      <th>...</th>\n",
              "      <td>...</td>\n",
              "      <td>...</td>\n",
              "      <td>...</td>\n",
              "      <td>...</td>\n",
              "      <td>...</td>\n",
              "      <td>...</td>\n",
              "      <td>...</td>\n",
              "      <td>...</td>\n",
              "      <td>...</td>\n",
              "      <td>...</td>\n",
              "      <td>...</td>\n",
              "    </tr>\n",
              "    <tr>\n",
              "      <th>303719</th>\n",
              "      <td>SKW4306</td>\n",
              "      <td>OO4306</td>\n",
              "      <td>ac018c</td>\n",
              "      <td>N873AS</td>\n",
              "      <td>CRJ2</td>\n",
              "      <td>NaN</td>\n",
              "      <td>NaN</td>\n",
              "      <td>2020-04-30 23:41:36+00:00</td>\n",
              "      <td>2020-04-30 23:53:27+00:00</td>\n",
              "      <td>2020-04-30 00:00:00+00:00</td>\n",
              "      <td>303804.0</td>\n",
              "    </tr>\n",
              "    <tr>\n",
              "      <th>303720</th>\n",
              "      <td>HDA782</td>\n",
              "      <td>KA782</td>\n",
              "      <td>78019c</td>\n",
              "      <td>B-HLT</td>\n",
              "      <td>A333</td>\n",
              "      <td>VHHH</td>\n",
              "      <td>NaN</td>\n",
              "      <td>2020-04-30 23:41:53+00:00</td>\n",
              "      <td>2020-04-30 23:54:53+00:00</td>\n",
              "      <td>2020-04-30 00:00:00+00:00</td>\n",
              "      <td>303805.0</td>\n",
              "    </tr>\n",
              "    <tr>\n",
              "      <th>303721</th>\n",
              "      <td>CAL511</td>\n",
              "      <td>CI511</td>\n",
              "      <td>8991a9</td>\n",
              "      <td>B-18361</td>\n",
              "      <td>A333</td>\n",
              "      <td>RCTP</td>\n",
              "      <td>NaN</td>\n",
              "      <td>2020-04-30 23:43:09+00:00</td>\n",
              "      <td>2020-04-30 23:58:14+00:00</td>\n",
              "      <td>2020-04-30 00:00:00+00:00</td>\n",
              "      <td>303806.0</td>\n",
              "    </tr>\n",
              "    <tr>\n",
              "      <th>303722</th>\n",
              "      <td>AAL397</td>\n",
              "      <td>AA397</td>\n",
              "      <td>ac82f8</td>\n",
              "      <td>N905NN</td>\n",
              "      <td>B738</td>\n",
              "      <td>KMIA</td>\n",
              "      <td>NaN</td>\n",
              "      <td>2020-04-30 23:43:22+00:00</td>\n",
              "      <td>2020-04-30 23:54:41+00:00</td>\n",
              "      <td>2020-04-30 00:00:00+00:00</td>\n",
              "      <td>303807.0</td>\n",
              "    </tr>\n",
              "    <tr>\n",
              "      <th>303723</th>\n",
              "      <td>HKC320</td>\n",
              "      <td>RH320</td>\n",
              "      <td>780a43</td>\n",
              "      <td>B-LNW</td>\n",
              "      <td>A332</td>\n",
              "      <td>NaN</td>\n",
              "      <td>VHHH</td>\n",
              "      <td>2020-04-30 23:47:48+00:00</td>\n",
              "      <td>2020-04-30 23:58:56+00:00</td>\n",
              "      <td>2020-04-30 00:00:00+00:00</td>\n",
              "      <td>303808.0</td>\n",
              "    </tr>\n",
              "  </tbody>\n",
              "</table>\n",
              "<p>4344024 rows × 11 columns</p>\n",
              "</div>"
            ],
            "text/plain": [
              "       callsign  number  ...                        day Unnamed: 0\n",
              "0        SVA816     NaN  ...  2020-01-01 00:00:00+00:00        NaN\n",
              "1        THY183     NaN  ...  2020-01-01 00:00:00+00:00        NaN\n",
              "2        CES738   MU738  ...  2020-01-01 00:00:00+00:00        NaN\n",
              "3        CES771   MU771  ...  2020-01-01 00:00:00+00:00        NaN\n",
              "4          HAL5     HA5  ...  2020-01-01 00:00:00+00:00        NaN\n",
              "...         ...     ...  ...                        ...        ...\n",
              "303719  SKW4306  OO4306  ...  2020-04-30 00:00:00+00:00   303804.0\n",
              "303720   HDA782   KA782  ...  2020-04-30 00:00:00+00:00   303805.0\n",
              "303721   CAL511   CI511  ...  2020-04-30 00:00:00+00:00   303806.0\n",
              "303722   AAL397   AA397  ...  2020-04-30 00:00:00+00:00   303807.0\n",
              "303723   HKC320   RH320  ...  2020-04-30 00:00:00+00:00   303808.0\n",
              "\n",
              "[4344024 rows x 11 columns]"
            ]
          },
          "metadata": {
            "tags": []
          },
          "execution_count": 4
        }
      ]
    },
    {
      "cell_type": "code",
      "metadata": {
        "colab": {
          "base_uri": "https://localhost:8080/",
          "height": 197
        },
        "id": "q6AbUeO4Euo8",
        "outputId": "ae2e681b-b50e-4a4e-9d2e-fc8a59e4c1ec"
      },
      "source": [
        "data.tail()"
      ],
      "execution_count": null,
      "outputs": [
        {
          "output_type": "execute_result",
          "data": {
            "text/html": [
              "<div>\n",
              "<style scoped>\n",
              "    .dataframe tbody tr th:only-of-type {\n",
              "        vertical-align: middle;\n",
              "    }\n",
              "\n",
              "    .dataframe tbody tr th {\n",
              "        vertical-align: top;\n",
              "    }\n",
              "\n",
              "    .dataframe thead th {\n",
              "        text-align: right;\n",
              "    }\n",
              "</style>\n",
              "<table border=\"1\" class=\"dataframe\">\n",
              "  <thead>\n",
              "    <tr style=\"text-align: right;\">\n",
              "      <th></th>\n",
              "      <th>callsign</th>\n",
              "      <th>number</th>\n",
              "      <th>icao24</th>\n",
              "      <th>registration</th>\n",
              "      <th>typecode</th>\n",
              "      <th>origin</th>\n",
              "      <th>destination</th>\n",
              "      <th>firstseen</th>\n",
              "      <th>lastseen</th>\n",
              "      <th>day</th>\n",
              "      <th>Unnamed: 0</th>\n",
              "    </tr>\n",
              "  </thead>\n",
              "  <tbody>\n",
              "    <tr>\n",
              "      <th>303719</th>\n",
              "      <td>SKW4306</td>\n",
              "      <td>OO4306</td>\n",
              "      <td>ac018c</td>\n",
              "      <td>N873AS</td>\n",
              "      <td>CRJ2</td>\n",
              "      <td>NaN</td>\n",
              "      <td>NaN</td>\n",
              "      <td>2020-04-30 23:41:36+00:00</td>\n",
              "      <td>2020-04-30 23:53:27+00:00</td>\n",
              "      <td>2020-04-30 00:00:00+00:00</td>\n",
              "      <td>303804.0</td>\n",
              "    </tr>\n",
              "    <tr>\n",
              "      <th>303720</th>\n",
              "      <td>HDA782</td>\n",
              "      <td>KA782</td>\n",
              "      <td>78019c</td>\n",
              "      <td>B-HLT</td>\n",
              "      <td>A333</td>\n",
              "      <td>VHHH</td>\n",
              "      <td>NaN</td>\n",
              "      <td>2020-04-30 23:41:53+00:00</td>\n",
              "      <td>2020-04-30 23:54:53+00:00</td>\n",
              "      <td>2020-04-30 00:00:00+00:00</td>\n",
              "      <td>303805.0</td>\n",
              "    </tr>\n",
              "    <tr>\n",
              "      <th>303721</th>\n",
              "      <td>CAL511</td>\n",
              "      <td>CI511</td>\n",
              "      <td>8991a9</td>\n",
              "      <td>B-18361</td>\n",
              "      <td>A333</td>\n",
              "      <td>RCTP</td>\n",
              "      <td>NaN</td>\n",
              "      <td>2020-04-30 23:43:09+00:00</td>\n",
              "      <td>2020-04-30 23:58:14+00:00</td>\n",
              "      <td>2020-04-30 00:00:00+00:00</td>\n",
              "      <td>303806.0</td>\n",
              "    </tr>\n",
              "    <tr>\n",
              "      <th>303722</th>\n",
              "      <td>AAL397</td>\n",
              "      <td>AA397</td>\n",
              "      <td>ac82f8</td>\n",
              "      <td>N905NN</td>\n",
              "      <td>B738</td>\n",
              "      <td>KMIA</td>\n",
              "      <td>NaN</td>\n",
              "      <td>2020-04-30 23:43:22+00:00</td>\n",
              "      <td>2020-04-30 23:54:41+00:00</td>\n",
              "      <td>2020-04-30 00:00:00+00:00</td>\n",
              "      <td>303807.0</td>\n",
              "    </tr>\n",
              "    <tr>\n",
              "      <th>303723</th>\n",
              "      <td>HKC320</td>\n",
              "      <td>RH320</td>\n",
              "      <td>780a43</td>\n",
              "      <td>B-LNW</td>\n",
              "      <td>A332</td>\n",
              "      <td>NaN</td>\n",
              "      <td>VHHH</td>\n",
              "      <td>2020-04-30 23:47:48+00:00</td>\n",
              "      <td>2020-04-30 23:58:56+00:00</td>\n",
              "      <td>2020-04-30 00:00:00+00:00</td>\n",
              "      <td>303808.0</td>\n",
              "    </tr>\n",
              "  </tbody>\n",
              "</table>\n",
              "</div>"
            ],
            "text/plain": [
              "       callsign  number  ...                        day Unnamed: 0\n",
              "303719  SKW4306  OO4306  ...  2020-04-30 00:00:00+00:00   303804.0\n",
              "303720   HDA782   KA782  ...  2020-04-30 00:00:00+00:00   303805.0\n",
              "303721   CAL511   CI511  ...  2020-04-30 00:00:00+00:00   303806.0\n",
              "303722   AAL397   AA397  ...  2020-04-30 00:00:00+00:00   303807.0\n",
              "303723   HKC320   RH320  ...  2020-04-30 00:00:00+00:00   303808.0\n",
              "\n",
              "[5 rows x 11 columns]"
            ]
          },
          "metadata": {
            "tags": []
          },
          "execution_count": 57
        }
      ]
    },
    {
      "cell_type": "code",
      "metadata": {
        "id": "fHxhbM7iFDiw"
      },
      "source": [
        "data['timeStamp']=pd.to_datetime(data['firstseen'])\n",
        "data['Hr']=data['timeStamp'].apply(lambda time: time.hour)\n",
        "data['Month']=data['timeStamp'].apply(lambda time: time.month)\n",
        "data['day']=data['timeStamp'].apply(lambda time: time.dayofweek)"
      ],
      "execution_count": null,
      "outputs": []
    },
    {
      "cell_type": "code",
      "metadata": {
        "colab": {
          "base_uri": "https://localhost:8080/",
          "height": 296
        },
        "id": "MWNbvNCrFrd1",
        "outputId": "36bdf3e3-c64d-4f81-c9a3-b348a829623d"
      },
      "source": [
        "data.head()"
      ],
      "execution_count": null,
      "outputs": [
        {
          "output_type": "execute_result",
          "data": {
            "text/html": [
              "<div>\n",
              "<style scoped>\n",
              "    .dataframe tbody tr th:only-of-type {\n",
              "        vertical-align: middle;\n",
              "    }\n",
              "\n",
              "    .dataframe tbody tr th {\n",
              "        vertical-align: top;\n",
              "    }\n",
              "\n",
              "    .dataframe thead th {\n",
              "        text-align: right;\n",
              "    }\n",
              "</style>\n",
              "<table border=\"1\" class=\"dataframe\">\n",
              "  <thead>\n",
              "    <tr style=\"text-align: right;\">\n",
              "      <th></th>\n",
              "      <th>callsign</th>\n",
              "      <th>number</th>\n",
              "      <th>icao24</th>\n",
              "      <th>registration</th>\n",
              "      <th>typecode</th>\n",
              "      <th>origin</th>\n",
              "      <th>destination</th>\n",
              "      <th>firstseen</th>\n",
              "      <th>lastseen</th>\n",
              "      <th>day</th>\n",
              "      <th>Unnamed: 0</th>\n",
              "    </tr>\n",
              "  </thead>\n",
              "  <tbody>\n",
              "    <tr>\n",
              "      <th>0</th>\n",
              "      <td>SVA816</td>\n",
              "      <td>NaN</td>\n",
              "      <td>710064</td>\n",
              "      <td>HZ-AK24</td>\n",
              "      <td>B77W</td>\n",
              "      <td>NaN</td>\n",
              "      <td>NaN</td>\n",
              "      <td>2019-12-31 00:19:47+00:00</td>\n",
              "      <td>2020-01-01 13:27:28+00:00</td>\n",
              "      <td>2020-01-01 00:00:00+00:00</td>\n",
              "      <td>NaN</td>\n",
              "    </tr>\n",
              "    <tr>\n",
              "      <th>1</th>\n",
              "      <td>THY183</td>\n",
              "      <td>NaN</td>\n",
              "      <td>4ba9c1</td>\n",
              "      <td>TC-JNA</td>\n",
              "      <td>A332</td>\n",
              "      <td>NaN</td>\n",
              "      <td>LTBW</td>\n",
              "      <td>2019-12-31 00:25:26+00:00</td>\n",
              "      <td>2020-01-01 07:48:41+00:00</td>\n",
              "      <td>2020-01-01 00:00:00+00:00</td>\n",
              "      <td>NaN</td>\n",
              "    </tr>\n",
              "    <tr>\n",
              "      <th>2</th>\n",
              "      <td>CES738</td>\n",
              "      <td>MU738</td>\n",
              "      <td>781418</td>\n",
              "      <td>NaN</td>\n",
              "      <td>NaN</td>\n",
              "      <td>YMML</td>\n",
              "      <td>YSSY</td>\n",
              "      <td>2019-12-31 01:08:54+00:00</td>\n",
              "      <td>2020-01-01 01:45:29+00:00</td>\n",
              "      <td>2020-01-01 00:00:00+00:00</td>\n",
              "      <td>NaN</td>\n",
              "    </tr>\n",
              "    <tr>\n",
              "      <th>3</th>\n",
              "      <td>CES771</td>\n",
              "      <td>MU771</td>\n",
              "      <td>781858</td>\n",
              "      <td>NaN</td>\n",
              "      <td>NaN</td>\n",
              "      <td>YSSY</td>\n",
              "      <td>EHAM</td>\n",
              "      <td>2019-12-31 01:29:25+00:00</td>\n",
              "      <td>2020-01-01 04:08:28+00:00</td>\n",
              "      <td>2020-01-01 00:00:00+00:00</td>\n",
              "      <td>NaN</td>\n",
              "    </tr>\n",
              "    <tr>\n",
              "      <th>4</th>\n",
              "      <td>HAL5</td>\n",
              "      <td>HA5</td>\n",
              "      <td>a455ea</td>\n",
              "      <td>N379HA</td>\n",
              "      <td>A332</td>\n",
              "      <td>KLAS</td>\n",
              "      <td>NaN</td>\n",
              "      <td>2019-12-31 02:23:05+00:00</td>\n",
              "      <td>2020-01-01 08:52:18+00:00</td>\n",
              "      <td>2020-01-01 00:00:00+00:00</td>\n",
              "      <td>NaN</td>\n",
              "    </tr>\n",
              "  </tbody>\n",
              "</table>\n",
              "</div>"
            ],
            "text/plain": [
              "  callsign number  ...                        day Unnamed: 0\n",
              "0   SVA816    NaN  ...  2020-01-01 00:00:00+00:00        NaN\n",
              "1   THY183    NaN  ...  2020-01-01 00:00:00+00:00        NaN\n",
              "2   CES738  MU738  ...  2020-01-01 00:00:00+00:00        NaN\n",
              "3   CES771  MU771  ...  2020-01-01 00:00:00+00:00        NaN\n",
              "4     HAL5    HA5  ...  2020-01-01 00:00:00+00:00        NaN\n",
              "\n",
              "[5 rows x 11 columns]"
            ]
          },
          "metadata": {
            "tags": []
          },
          "execution_count": 6
        }
      ]
    },
    {
      "cell_type": "code",
      "metadata": {
        "colab": {
          "base_uri": "https://localhost:8080/"
        },
        "id": "jm5lgAVAH9Fk",
        "outputId": "8f57be55-2d32-41b0-ef41-50822457687c"
      },
      "source": [
        "data.info()"
      ],
      "execution_count": null,
      "outputs": [
        {
          "output_type": "stream",
          "text": [
            "<class 'pandas.core.frame.DataFrame'>\n",
            "Int64Index: 4344024 entries, 0 to 303723\n",
            "Data columns (total 14 columns):\n",
            " #   Column        Dtype              \n",
            "---  ------        -----              \n",
            " 0   callsign      object             \n",
            " 1   number        object             \n",
            " 2   icao24        object             \n",
            " 3   registration  object             \n",
            " 4   typecode      object             \n",
            " 5   origin        object             \n",
            " 6   destination   object             \n",
            " 7   firstseen     object             \n",
            " 8   lastseen      object             \n",
            " 9   day           int64              \n",
            " 10  Unnamed: 0    float64            \n",
            " 11  timeStamp     datetime64[ns, UTC]\n",
            " 12  Hr            int64              \n",
            " 13  Month         int64              \n",
            "dtypes: datetime64[ns, UTC](1), float64(1), int64(3), object(9)\n",
            "memory usage: 497.1+ MB\n"
          ],
          "name": "stdout"
        }
      ]
    },
    {
      "cell_type": "code",
      "metadata": {
        "colab": {
          "base_uri": "https://localhost:8080/"
        },
        "id": "q2q8o-nfF7zG",
        "outputId": "5212d60d-9c2b-4296-dcef-e598874fe6fe"
      },
      "source": [
        "a=data[\"origin\"].str[1:].value_counts()\n",
        "a.head()\n",
        "Total=data['origin'].value_counts().sum()\n",
        "Total"
      ],
      "execution_count": null,
      "outputs": [
        {
          "output_type": "execute_result",
          "data": {
            "text/plain": [
              "3259607"
            ]
          },
          "metadata": {
            "tags": []
          },
          "execution_count": 61
        }
      ]
    },
    {
      "cell_type": "code",
      "metadata": {
        "colab": {
          "base_uri": "https://localhost:8080/",
          "height": 35
        },
        "id": "T7rjPTlJTmf7",
        "outputId": "60c1dce0-5a3b-460a-d057-7d4bb6208162"
      },
      "source": [
        "'''plt.figure(figsize=(12,8))\n",
        "sns.heatmap(data.isnull(), yticklabels=False, cbar=False, cmap='viridis')\n",
        "plt.title(\"Missing Values NAN or NULL\")\n",
        "'''"
      ],
      "execution_count": null,
      "outputs": [
        {
          "output_type": "execute_result",
          "data": {
            "application/vnd.google.colaboratory.intrinsic+json": {
              "type": "string"
            },
            "text/plain": [
              "'plt.figure(figsize=(12,8))\\nsns.heatmap(data.isnull(), yticklabels=False, cbar=False, cmap=\\'viridis\\')\\nplt.title(\"Missing Values NAN or NULL\")\\n'"
            ]
          },
          "metadata": {
            "tags": []
          },
          "execution_count": 62
        }
      ]
    },
    {
      "cell_type": "code",
      "metadata": {
        "colab": {
          "base_uri": "https://localhost:8080/",
          "height": 296
        },
        "id": "6Zv3leSCGuQl",
        "outputId": "160e2806-42c4-468a-ec1b-1d40d60c024c"
      },
      "source": [
        "a.head(20).plot.bar()"
      ],
      "execution_count": null,
      "outputs": [
        {
          "output_type": "execute_result",
          "data": {
            "text/plain": [
              "<matplotlib.axes._subplots.AxesSubplot at 0x7f80af6eaa90>"
            ]
          },
          "metadata": {
            "tags": []
          },
          "execution_count": 63
        },
        {
          "output_type": "display_data",
          "data": {
            "image/png": "[encoded data removed]",
            "text/plain": [
              "<Figure size 432x288 with 1 Axes>"
            ]
          },
          "metadata": {
            "tags": [],
            "needs_background": "light"
          }
        }
      ]
    },
    {
      "cell_type": "code",
      "metadata": {
        "colab": {
          "base_uri": "https://localhost:8080/"
        },
        "id": "HV7JxEHgJAva",
        "outputId": "b72da25e-bc22-40e6-f043-1b6104bf07e4"
      },
      "source": [
        "b=data[\"typecode\"].value_counts()\n",
        "b.head(20)\t"
      ],
      "execution_count": null,
      "outputs": [
        {
          "output_type": "execute_result",
          "data": {
            "text/plain": [
              "B738    604394\n",
              "A320    562329\n",
              "B737    299913\n",
              "A319    213389\n",
              "A321    211438\n",
              "CRJ9    131965\n",
              "CRJ2    124577\n",
              "E75L    120512\n",
              "B739    105779\n",
              "CRJ7     83911\n",
              "E145     76977\n",
              "B77W     72515\n",
              "B763     70719\n",
              "B752     69742\n",
              "A333     64995\n",
              "E190     57180\n",
              "A20N     51359\n",
              "E75S     50947\n",
              "B772     38153\n",
              "B712     38133\n",
              "Name: typecode, dtype: int64"
            ]
          },
          "metadata": {
            "tags": []
          },
          "execution_count": 64
        }
      ]
    },
    {
      "cell_type": "code",
      "metadata": {
        "colab": {
          "base_uri": "https://localhost:8080/",
          "height": 535
        },
        "id": "tWUZOcBYKPNl",
        "outputId": "b3763f56-4e65-4805-a87e-25c4c72015a8"
      },
      "source": [
        "plt.figure(figsize=(12,8))\n",
        "b.head(20).plot.bar()\n",
        "plt.title(\"Aircraft Utilization Prior Covid\")"
      ],
      "execution_count": null,
      "outputs": [
        {
          "output_type": "execute_result",
          "data": {
            "text/plain": [
              "Text(0.5, 1.0, 'Aircraft Utilization Prior Covid')"
            ]
          },
          "metadata": {
            "tags": []
          },
          "execution_count": 65
        },
        {
          "output_type": "display_data",
          "data": {
            "image/png": "[encoded data removed]",
            "text/plain": [
              "<Figure size 864x576 with 1 Axes>"
            ]
          },
          "metadata": {
            "tags": [],
            "needs_background": "light"
          }
        }
      ]
    },
    {
      "cell_type": "code",
      "metadata": {
        "colab": {
          "base_uri": "https://localhost:8080/"
        },
        "id": "sCNN-uoaKcn6",
        "outputId": "dea987cd-6f0a-4c4f-f146-a4076b66839b"
      },
      "source": [
        "c = data[data['registration'].str.startswith('N', na=False)]['registration'].count()\n",
        "c"
      ],
      "execution_count": null,
      "outputs": [
        {
          "output_type": "execute_result",
          "data": {
            "text/plain": [
              "2231812"
            ]
          },
          "metadata": {
            "tags": []
          },
          "execution_count": 66
        }
      ]
    },
    {
      "cell_type": "code",
      "metadata": {
        "colab": {
          "base_uri": "https://localhost:8080/"
        },
        "id": "14mHUF4qMSJ7",
        "outputId": "bceb0b99-926b-458d-ff4f-902f7047764e"
      },
      "source": [
        "c/Total"
      ],
      "execution_count": null,
      "outputs": [
        {
          "output_type": "execute_result",
          "data": {
            "text/plain": [
              "0.6846874485175667"
            ]
          },
          "metadata": {
            "tags": []
          },
          "execution_count": 67
        }
      ]
    },
    {
      "cell_type": "code",
      "metadata": {
        "id": "ZKIy8yS7MTCZ",
        "colab": {
          "base_uri": "https://localhost:8080/",
          "height": 347
        },
        "outputId": "7d340c9c-90c4-4e19-f28d-9e0231136079"
      },
      "source": [
        "\n",
        "c = data[data['registration'].str.contains('A7',na=False)]#['registration'].count()\n",
        "c.tail(10)"
      ],
      "execution_count": null,
      "outputs": [
        {
          "output_type": "execute_result",
          "data": {
            "text/html": [
              "<div>\n",
              "<style scoped>\n",
              "    .dataframe tbody tr th:only-of-type {\n",
              "        vertical-align: middle;\n",
              "    }\n",
              "\n",
              "    .dataframe tbody tr th {\n",
              "        vertical-align: top;\n",
              "    }\n",
              "\n",
              "    .dataframe thead th {\n",
              "        text-align: right;\n",
              "    }\n",
              "</style>\n",
              "<table border=\"1\" class=\"dataframe\">\n",
              "  <thead>\n",
              "    <tr style=\"text-align: right;\">\n",
              "      <th></th>\n",
              "      <th>callsign</th>\n",
              "      <th>number</th>\n",
              "      <th>icao24</th>\n",
              "      <th>registration</th>\n",
              "      <th>typecode</th>\n",
              "      <th>origin</th>\n",
              "      <th>destination</th>\n",
              "      <th>firstseen</th>\n",
              "      <th>lastseen</th>\n",
              "      <th>day</th>\n",
              "      <th>Unnamed: 0</th>\n",
              "      <th>timeStamp</th>\n",
              "      <th>Hr</th>\n",
              "      <th>Month</th>\n",
              "    </tr>\n",
              "  </thead>\n",
              "  <tbody>\n",
              "    <tr>\n",
              "      <th>300469</th>\n",
              "      <td>QTR8941</td>\n",
              "      <td>QR8941</td>\n",
              "      <td>06a07f</td>\n",
              "      <td>A7-BFA</td>\n",
              "      <td>B77L</td>\n",
              "      <td>NaN</td>\n",
              "      <td>OTHH</td>\n",
              "      <td>2020-04-30 14:33:07+00:00</td>\n",
              "      <td>2020-04-30 23:12:54+00:00</td>\n",
              "      <td>3</td>\n",
              "      <td>300551.0</td>\n",
              "      <td>2020-04-30 14:33:07+00:00</td>\n",
              "      <td>14</td>\n",
              "      <td>4</td>\n",
              "    </tr>\n",
              "    <tr>\n",
              "      <th>300606</th>\n",
              "      <td>QTR8960</td>\n",
              "      <td>QR8960</td>\n",
              "      <td>06a0df</td>\n",
              "      <td>A7-BFF</td>\n",
              "      <td>B77L</td>\n",
              "      <td>OTHH</td>\n",
              "      <td>NaN</td>\n",
              "      <td>2020-04-30 14:55:35+00:00</td>\n",
              "      <td>2020-04-30 18:56:11+00:00</td>\n",
              "      <td>3</td>\n",
              "      <td>300688.0</td>\n",
              "      <td>2020-04-30 14:55:35+00:00</td>\n",
              "      <td>14</td>\n",
              "      <td>4</td>\n",
              "    </tr>\n",
              "    <tr>\n",
              "      <th>300630</th>\n",
              "      <td>JAL34</td>\n",
              "      <td>JL34</td>\n",
              "      <td>8682da</td>\n",
              "      <td>JA740J</td>\n",
              "      <td>B77W</td>\n",
              "      <td>VTBS</td>\n",
              "      <td>RJTE</td>\n",
              "      <td>2020-04-30 14:59:22+00:00</td>\n",
              "      <td>2020-04-30 20:02:02+00:00</td>\n",
              "      <td>3</td>\n",
              "      <td>300712.0</td>\n",
              "      <td>2020-04-30 14:59:22+00:00</td>\n",
              "      <td>14</td>\n",
              "      <td>4</td>\n",
              "    </tr>\n",
              "    <tr>\n",
              "      <th>301589</th>\n",
              "      <td>QTR7458</td>\n",
              "      <td>QR7458</td>\n",
              "      <td>06a105</td>\n",
              "      <td>A7-ALQ</td>\n",
              "      <td>A359</td>\n",
              "      <td>EGCC</td>\n",
              "      <td>OTHH</td>\n",
              "      <td>2020-04-30 17:08:00+00:00</td>\n",
              "      <td>2020-04-30 23:26:26+00:00</td>\n",
              "      <td>3</td>\n",
              "      <td>301671.0</td>\n",
              "      <td>2020-04-30 17:08:00+00:00</td>\n",
              "      <td>17</td>\n",
              "      <td>4</td>\n",
              "    </tr>\n",
              "    <tr>\n",
              "      <th>301760</th>\n",
              "      <td>QTR8156</td>\n",
              "      <td>QR8156</td>\n",
              "      <td>06a080</td>\n",
              "      <td>A7-BFB</td>\n",
              "      <td>B77L</td>\n",
              "      <td>EBLG</td>\n",
              "      <td>OTHH</td>\n",
              "      <td>2020-04-30 17:34:45+00:00</td>\n",
              "      <td>2020-04-30 23:16:37+00:00</td>\n",
              "      <td>3</td>\n",
              "      <td>301843.0</td>\n",
              "      <td>2020-04-30 17:34:45+00:00</td>\n",
              "      <td>17</td>\n",
              "      <td>4</td>\n",
              "    </tr>\n",
              "    <tr>\n",
              "      <th>301806</th>\n",
              "      <td>QTR8157</td>\n",
              "      <td>QR8157</td>\n",
              "      <td>06a1e8</td>\n",
              "      <td>A7-BFK</td>\n",
              "      <td>B77L</td>\n",
              "      <td>EHAM</td>\n",
              "      <td>LSZM</td>\n",
              "      <td>2020-04-30 17:41:37+00:00</td>\n",
              "      <td>2020-04-30 18:32:27+00:00</td>\n",
              "      <td>3</td>\n",
              "      <td>301889.0</td>\n",
              "      <td>2020-04-30 17:41:37+00:00</td>\n",
              "      <td>17</td>\n",
              "      <td>4</td>\n",
              "    </tr>\n",
              "    <tr>\n",
              "      <th>302377</th>\n",
              "      <td>QTR8577</td>\n",
              "      <td>QR8577</td>\n",
              "      <td>06a1a4</td>\n",
              "      <td>A7-AFI</td>\n",
              "      <td>A332</td>\n",
              "      <td>OTHH</td>\n",
              "      <td>LTBW</td>\n",
              "      <td>2020-04-30 19:09:16+00:00</td>\n",
              "      <td>2020-04-30 22:53:04+00:00</td>\n",
              "      <td>3</td>\n",
              "      <td>302460.0</td>\n",
              "      <td>2020-04-30 19:09:16+00:00</td>\n",
              "      <td>19</td>\n",
              "      <td>4</td>\n",
              "    </tr>\n",
              "    <tr>\n",
              "      <th>303529</th>\n",
              "      <td>QTR8131</td>\n",
              "      <td>QR8131</td>\n",
              "      <td>06a1e7</td>\n",
              "      <td>A7-BFJ</td>\n",
              "      <td>B77L</td>\n",
              "      <td>KATL</td>\n",
              "      <td>KDFW</td>\n",
              "      <td>2020-04-30 22:21:06+00:00</td>\n",
              "      <td>2020-04-30 23:59:29+00:00</td>\n",
              "      <td>3</td>\n",
              "      <td>450.0</td>\n",
              "      <td>2020-04-30 22:21:06+00:00</td>\n",
              "      <td>22</td>\n",
              "      <td>4</td>\n",
              "    </tr>\n",
              "    <tr>\n",
              "      <th>303556</th>\n",
              "      <td>QTR498</td>\n",
              "      <td>QR498</td>\n",
              "      <td>06a0be</td>\n",
              "      <td>A7-BCZ</td>\n",
              "      <td>B788</td>\n",
              "      <td>OTHH</td>\n",
              "      <td>NaN</td>\n",
              "      <td>2020-04-30 22:27:12+00:00</td>\n",
              "      <td>2020-04-30 23:00:22+00:00</td>\n",
              "      <td>3</td>\n",
              "      <td>303641.0</td>\n",
              "      <td>2020-04-30 22:27:12+00:00</td>\n",
              "      <td>22</td>\n",
              "      <td>4</td>\n",
              "    </tr>\n",
              "    <tr>\n",
              "      <th>303690</th>\n",
              "      <td>JAL905</td>\n",
              "      <td>JL905</td>\n",
              "      <td>868dda</td>\n",
              "      <td>JA772J</td>\n",
              "      <td>B772</td>\n",
              "      <td>RJTT</td>\n",
              "      <td>NaN</td>\n",
              "      <td>2020-04-30 23:16:58+00:00</td>\n",
              "      <td>2020-04-30 23:58:41+00:00</td>\n",
              "      <td>3</td>\n",
              "      <td>303775.0</td>\n",
              "      <td>2020-04-30 23:16:58+00:00</td>\n",
              "      <td>23</td>\n",
              "      <td>4</td>\n",
              "    </tr>\n",
              "  </tbody>\n",
              "</table>\n",
              "</div>"
            ],
            "text/plain": [
              "       callsign  number  icao24  ...                 timeStamp  Hr Month\n",
              "300469  QTR8941  QR8941  06a07f  ... 2020-04-30 14:33:07+00:00  14     4\n",
              "300606  QTR8960  QR8960  06a0df  ... 2020-04-30 14:55:35+00:00  14     4\n",
              "300630    JAL34    JL34  8682da  ... 2020-04-30 14:59:22+00:00  14     4\n",
              "301589  QTR7458  QR7458  06a105  ... 2020-04-30 17:08:00+00:00  17     4\n",
              "301760  QTR8156  QR8156  06a080  ... 2020-04-30 17:34:45+00:00  17     4\n",
              "301806  QTR8157  QR8157  06a1e8  ... 2020-04-30 17:41:37+00:00  17     4\n",
              "302377  QTR8577  QR8577  06a1a4  ... 2020-04-30 19:09:16+00:00  19     4\n",
              "303529  QTR8131  QR8131  06a1e7  ... 2020-04-30 22:21:06+00:00  22     4\n",
              "303556   QTR498   QR498  06a0be  ... 2020-04-30 22:27:12+00:00  22     4\n",
              "303690   JAL905   JL905  868dda  ... 2020-04-30 23:16:58+00:00  23     4\n",
              "\n",
              "[10 rows x 14 columns]"
            ]
          },
          "metadata": {
            "tags": []
          },
          "execution_count": 68
        }
      ]
    },
    {
      "cell_type": "code",
      "metadata": {
        "colab": {
          "base_uri": "https://localhost:8080/",
          "height": 71
        },
        "id": "nXKKN_TINGIL",
        "outputId": "5283b3e6-154f-470f-b397-62b81a7e908b"
      },
      "source": [
        "sns.countplot(x=\"Hr\", data=data,palette='viridis')"
      ],
      "execution_count": null,
      "outputs": [
        {
          "output_type": "execute_result",
          "data": {
            "text/plain": [
              "<matplotlib.axes._subplots.AxesSubplot at 0x7f806ffceed0>"
            ]
          },
          "metadata": {
            "tags": []
          },
          "execution_count": 69
        },
        {
          "output_type": "display_data",
          "data": {
            "image/png": "[encoded data removed]",
            "text/plain": [
              "<Figure size 432x288 with 1 Axes>"
            ]
          },
          "metadata": {
            "tags": [],
            "needs_background": "light"
          }
        }
      ]
    },
    {
      "cell_type": "code",
      "metadata": {
        "colab": {
          "base_uri": "https://localhost:8080/",
          "height": 278
        },
        "id": "sVRQ6_vBicC5",
        "outputId": "1c3f16e8-2b35-4464-f7d8-f83cdfcb621d"
      },
      "source": [
        "#sns.countplot(x=\"day\", data=data,palette='viridis')\n",
        "fig, ax = plt.subplots()\n",
        "dmap = {0:'Mon',1:'Tue',2:'Wed',3:'Thu',4:'Fri',5:'Sat',6:'Sun'}\n",
        "data['day'] = data['day'].map(dmap)\n",
        "sns.countplot(x='day',data=data,palette='ch:s=.25,rot=-.25')\n",
        "ax.yaxis.set_label_position('right')\n",
        "right_side = ax.spines[\"right\"]\n",
        "right_side.set_visible(False)\n",
        "top_side = ax.spines[\"top\"]\n",
        "top_side.set_visible(False)\n",
        "\n",
        "# To relocate the legend\n",
        "#plt.legend(bbox_to_anchor=(1.05, 1), loc=2, borderaxespad=0.)"
      ],
      "execution_count": null,
      "outputs": [
        {
          "output_type": "display_data",
          "data": {
            "image/png": "[encoded data removed]",
            "text/plain": [
              "<Figure size 432x288 with 1 Axes>"
            ]
          },
          "metadata": {
            "tags": [],
            "needs_background": "light"
          }
        }
      ]
    },
    {
      "cell_type": "code",
      "metadata": {
        "colab": {
          "base_uri": "https://localhost:8080/",
          "height": 302
        },
        "id": "pPOntyZifgS7",
        "outputId": "9da682a2-5a8f-450a-ce35-2ab61a6fc068"
      },
      "source": [
        "fig, ax = plt.subplots()\n",
        "ax.ticklabel_format(useOffset=False, style='plain', axis='y')\n",
        "ax.yaxis.set_label_coords(-.1,1.02)\n",
        "ax.set_ylabel(r\"Efficacit\\'e\", rotation='horizontal')\n",
        "ax.yaxis.set_label_position('right')\n",
        "right_side = ax.spines[\"right\"]\n",
        "right_side.set_visible(False)\n",
        "top_side = ax.spines[\"top\"]\n",
        "top_side.set_visible(False)\n",
        "sns.countplot(x=\"Month\", data=data,palette='viridis')\n",
        "\n",
        "#emap = {0:'Dec',1:'Jan',2:'Feb',3:'Mar'}\n",
        "#data['Month'] = data['Month'].map(emap)\n",
        "#sns.countplot(x='Month',data=data,palette='ch:s=.25,rot=-.25')"
      ],
      "execution_count": null,
      "outputs": [
        {
          "output_type": "execute_result",
          "data": {
            "text/plain": [
              "<matplotlib.axes._subplots.AxesSubplot at 0x7f80afb0fc50>"
            ]
          },
          "metadata": {
            "tags": []
          },
          "execution_count": 71
        },
        {
          "output_type": "display_data",
          "data": {
            "image/png": "[encoded data removed]",
            "text/plain": [
              "<Figure size 432x288 with 1 Axes>"
            ]
          },
          "metadata": {
            "tags": [],
            "needs_background": "light"
          }
        }
      ]
    },
    {
      "cell_type": "code",
      "metadata": {
        "id": "LRBXdlMINge_",
        "colab": {
          "base_uri": "https://localhost:8080/",
          "height": 177
        },
        "outputId": "86646fd4-f5a4-441a-adb1-37cf2c8eb8f3"
      },
      "source": [
        "plt.figure(figsize=(18,10))\n",
        "manufacturer = data['typecode'].str[0].value_counts().head(5)\n",
        "print(manufacturer)\n",
        "manufacturer.plot.pie()\n",
        "plt.legend([\"Boeing\",\"Airbus\",\"Embrear\",\"Canadian Rejional Jet\",\"Bombardiar\" ])\n",
        "plt.title(\"Most Famous Manufacturer\")"
      ],
      "execution_count": null,
      "outputs": [
        {
          "output_type": "stream",
          "text": [
            "B    1459730\n",
            "A    1257155\n",
            "E     398240\n",
            "C     361228\n",
            "D      48719\n",
            "Name: typecode, dtype: int64\n"
          ],
          "name": "stdout"
        },
        {
          "output_type": "execute_result",
          "data": {
            "text/plain": [
              "Text(0.5, 1.0, 'Most Famous Manufacturer')"
            ]
          },
          "metadata": {
            "tags": []
          },
          "execution_count": 72
        },
        {
          "output_type": "display_data",
          "data": {
            "image/png": "[encoded data removed]",
            "text/plain": [
              "<Figure size 1296x720 with 1 Axes>"
            ]
          },
          "metadata": {
            "tags": []
          }
        }
      ]
    },
    {
      "cell_type": "code",
      "metadata": {
        "id": "nIM1j2iwlePu"
      },
      "source": [
        "x5 = val1['price']\n",
        "\n",
        "plt.hist(x5, bins=20)\n",
        "\n",
        "plt.title('Price Histogram')\n",
        "plt.xlabel('Price')\n",
        "plt.ylabel('Frequency')\n",
        "\n",
        "plt.show()"
      ],
      "execution_count": null,
      "outputs": []
    },
    {
      "cell_type": "markdown",
      "metadata": {
        "id": "Kxm3FP74RwPv"
      },
      "source": [
        "DataSet:\n",
        "https://zenodo.org/record/4601479#.YFAkJZNKhQJ\n"
      ]
    }
  ]
}